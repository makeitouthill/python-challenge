{
 "cells": [
  {
   "cell_type": "code",
   "execution_count": 5,
   "metadata": {},
   "outputs": [
    {
     "name": "stdout",
     "output_type": "stream",
     "text": [
      "Resources/budget_data.csv\n"
     ]
    }
   ],
   "source": [
    "import csv\n",
    "\n",
    "# Defining a variable for input data and output .txt file. \n",
    "Pybank = \"Resources/budget_data.csv\"\n",
    "output_file = \"Resources/Pybank_anaylsis.txt\""
   ]
  },
  {
   "cell_type": "code",
   "execution_count": 7,
   "metadata": {},
   "outputs": [],
   "source": [
    "# List to store data.\n",
    "dates = []\n",
    "profit_losses = []"
   ]
  },
  {
   "cell_type": "code",
   "execution_count": 18,
   "metadata": {},
   "outputs": [
    {
     "name": "stdout",
     "output_type": "stream",
     "text": [
      "Jan-2010 867884\n",
      "Feb-2010 984655\n",
      "Mar-2010 322013\n",
      "Apr-2010 -69417\n",
      "May-2010 310503\n",
      "Jun-2010 522857\n",
      "Jul-2010 1033096\n",
      "Aug-2010 604885\n",
      "Sep-2010 -216386\n",
      "Oct-2010 477532\n"
     ]
    }
   ],
   "source": [
    "with open(Pybank, 'r') as csvfile:\n",
    "    csvreader = csv.reader(csvfile)\n",
    "    #   skipping the header row\n",
    "    next(csvreader)\n",
    "    \n",
    "    #   Looping through each row and appending to lists\n",
    "    for row in csvreader:\n",
    "            dates.append(row[0])\n",
    "            profit_losses.append(int(row[1]))\n",
    "\n",
    "for i in range(10):\n",
    "      print(dates[i], profit_losses[i])"
   ]
  },
  {
   "cell_type": "code",
   "execution_count": 20,
   "metadata": {},
   "outputs": [
    {
     "name": "stdout",
     "output_type": "stream",
     "text": [
      "861\n"
     ]
    }
   ],
   "source": [
    "# Total months\n",
    "total_months = len(dates)\n",
    "print(total_months)"
   ]
  },
  {
   "cell_type": "code",
   "execution_count": 21,
   "metadata": {},
   "outputs": [
    {
     "name": "stdout",
     "output_type": "stream",
     "text": [
      "383825780\n"
     ]
    }
   ],
   "source": [
    "# Net Total of P&L over all the months\n",
    "net_total = sum(profit_losses)\n",
    "print(net_total)"
   ]
  },
  {
   "cell_type": "code",
   "execution_count": 32,
   "metadata": {},
   "outputs": [
    {
     "name": "stdout",
     "output_type": "stream",
     "text": [
      "-229.0861466821886\n"
     ]
    }
   ],
   "source": [
    "# Average change in P&L over entire period\n",
    "changes = [profit_losses[i + 1] - profit_losses[i] \n",
    "           for i in range(len(profit_losses) - 1)]\n",
    "avg_change = sum(changes) / len(changes)\n",
    "print(avg_change)"
   ]
  },
  {
   "cell_type": "code",
   "execution_count": 35,
   "metadata": {},
   "outputs": [
    {
     "name": "stdout",
     "output_type": "stream",
     "text": [
      "Feb-2012 1926159 Sep-2013 -2196167\n"
     ]
    }
   ],
   "source": [
    "# Greatest increase and decrease in profits\n",
    "greatest_increase = max(changes)\n",
    "greatest_increase_date = dates[changes.index(greatest_increase) + 1]\n",
    "\n",
    "greatest_decrease = min(changes)\n",
    "greatest_decrease_date = dates[changes.index(greatest_decrease) + 1]\n",
    "\n",
    "print(greatest_increase_date, greatest_increase, greatest_decrease_date, greatest_decrease)"
   ]
  }
 ],
 "metadata": {
  "kernelspec": {
   "display_name": "Python 3",
   "language": "python",
   "name": "python3"
  },
  "language_info": {
   "codemirror_mode": {
    "name": "ipython",
    "version": 3
   },
   "file_extension": ".py",
   "mimetype": "text/x-python",
   "name": "python",
   "nbconvert_exporter": "python",
   "pygments_lexer": "ipython3",
   "version": "3.12.0"
  }
 },
 "nbformat": 4,
 "nbformat_minor": 2
}
